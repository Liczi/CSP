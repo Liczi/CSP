{
  "nbformat": 4,
  "nbformat_minor": 0,
  "metadata": {
    "colab": {
      "name": "Untitled2.ipynb",
      "provenance": [],
      "include_colab_link": true
    },
    "kernelspec": {
      "name": "python3",
      "display_name": "Python 3"
    }
  },
  "cells": [
    {
      "cell_type": "markdown",
      "metadata": {
        "id": "view-in-github",
        "colab_type": "text"
      },
      "source": [
        "<a href=\"https://colab.research.google.com/github/Liczi/CSP/blob/master/tokenizer.ipynb\" target=\"_parent\"><img src=\"https://colab.research.google.com/assets/colab-badge.svg\" alt=\"Open In Colab\"/></a>"
      ]
    },
    {
      "cell_type": "code",
      "metadata": {
        "id": "ZDrqzU2FQr_n",
        "colab_type": "code",
        "outputId": "0d8a5157-a7aa-4cb7-f97c-959cd2247433",
        "colab": {
          "base_uri": "https://localhost:8080/",
          "height": 55
        }
      },
      "source": [
        "import re\n",
        "text = \"Ala ma kota, a kot 4 łapy. Kot pije mleko?\"\n",
        "words = re.split(\"([a-źA-Ź][^ ,|.|?|!]{0,})|([.|,])|(\\d{1,})\",text)\n",
        "segmented = []\n",
        "tokens = []\n",
        "for wrd in words:\n",
        "  if wrd and wrd != \" \":\n",
        "    segmented.append(wrd)\n",
        "print(segmented)\n",
        "for i in range(len(segmented)):\n",
        "  if re.search(\"[a-źA-Ź][^ ,|.|?|!]{0,}\",segmented[i]):\n",
        "    tokens.append(\"word\")\n",
        "    continue\n",
        "  if re.search(\"[.|,|?|!]\",segmented[i]):\n",
        "    tokens.append(\"interpunction\")\n",
        "    continue\n",
        "  if re.search(\"\\d{1,}\",segmented[i]):\n",
        "    tokens.append(\"number\")\n",
        "    continue\n",
        "  tokens.append(\"other\")\n",
        "print(tokens)"
      ],
      "execution_count": 0,
      "outputs": [
        {
          "output_type": "stream",
          "text": [
            "['Ala', 'ma', 'kota', ',', 'a', 'kot', '4', 'łapy', '.', 'Kot', 'pije', 'mleko', '?']\n",
            "['word', 'word', 'word', 'interpunction', 'word', 'word', 'number', 'word', 'interpunction', 'word', 'word', 'word', 'interpunction']\n"
          ],
          "name": "stdout"
        }
      ]
    }
  ]
}